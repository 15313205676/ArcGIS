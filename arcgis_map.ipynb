{
 "cells": [
  {
   "cell_type": "code",
   "execution_count": 129,
   "metadata": {},
   "outputs": [
    {
     "name": "stdout",
     "output_type": "stream",
     "text": [
      " 驱动器 C 中的卷是 Windows\n",
      " 卷的序列号是 F4DF-D255\n",
      "\n",
      " C:\\Users\\sujiaqi 的目录\n",
      "\n",
      "2019/10/30  20:47    <DIR>          .\n",
      "2019/10/30  20:47    <DIR>          ..\n",
      "2019/04/08  20:15    <DIR>          .anaconda\n",
      "2019/02/25  15:20    <DIR>          .android\n",
      "2019/09/27  17:49            22,289 .bash_history\n",
      "2019/04/01  19:04    <DIR>          .ches-mapper\n",
      "2019/04/09  00:41    <DIR>          .conda\n",
      "2019/08/27  19:43               303 .condarc\n",
      "2019/04/23  16:02    <DIR>          .config\n",
      "2019/02/26  16:35               533 .csds_defaults3\n",
      "2019/08/26  17:02    <DIR>          .docker\n",
      "2019/04/12  18:09               206 .gitconfig\n",
      "2019/04/01  21:45    <DIR>          .idlerc\n",
      "2019/03/06  15:54    <DIR>          .inteligand-data\n",
      "2019/03/06  15:55    <DIR>          .inteligand_license\n",
      "2019/10/30  11:12    <DIR>          .ipynb_checkpoints\n",
      "2019/04/08  20:15    <DIR>          .ipython\n",
      "2019/04/10  10:55    <DIR>          .jchempaint\n",
      "2019/04/16  09:42    <DIR>          .jmol\n",
      "2019/03/27  22:44    <DIR>          .jnati\n",
      "2019/10/27  20:44    <DIR>          .jupyter\n",
      "2019/03/13  10:32                10 .lgfname\n",
      "2019/10/28  16:59    <DIR>          .matplotlib\n",
      "2019/09/03  19:36    <DIR>          .mgltools\n",
      "2019/02/26  16:37               711 .mogul_defaults\n",
      "2019/06/28  20:28    <DIR>          .nbi\n",
      "2019/08/19  17:11                12 .node_repl_history\n",
      "2019/03/25  21:58                65 .pgAdmin4.2002693608.addr\n",
      "2019/03/25  21:58                 0 .pgAdmin4.2002693608.log\n",
      "2019/03/25  21:58             1,557 .pgAdmin4.startup.log\n",
      "2019/04/23  16:02    <DIR>          .pybel\n",
      "2019/10/30  14:19    <DIR>          .pymol\n",
      "2019/10/21  10:20             3,204 .pymolpluginsrc.py\n",
      "2019/02/17  15:47                10 .pymoltimestamp\n",
      "2019/04/28  23:16             1,020 .python_history\n",
      "2019/04/22  19:09    <DIR>          .qwebkit_idb\n",
      "2019/04/23  16:08    <DIR>          .spyder-py3\n",
      "2019/09/20  11:29    <DIR>          .ssh\n",
      "2019/04/02  21:16    <DIR>          .UGENE_files\n",
      "2019/04/20  13:39            23,940 .viminfo\n",
      "2019/02/26  20:30    <DIR>          .vscode\n",
      "2019/08/14  20:57    <DIR>          3D Objects\n",
      "2019/07/27  14:58    <DIR>          Apple\n",
      "2019/03/26  20:43    <DIR>          AppMods\n",
      "2019/03/12  15:47    <DIR>          CADDworkflows\n",
      "2019/10/28  16:56    <DIR>          CCP4\n",
      "2019/04/22  19:09    <DIR>          CCP4I2\n",
      "2019/08/12  09:39    <DIR>          CCP4I2_PROJECTS\n",
      "2019/04/22  19:09    <DIR>          CCP4I2_TEST\n",
      "2019/09/02  15:19    <DIR>          chemaxon\n",
      "2019/08/14  20:57    <DIR>          Contacts\n",
      "2019/02/19  17:11               107 csd_licence.dat\n",
      "2019/04/12  00:14    <DIR>          CytoscapeConfiguration\n",
      "2019/09/26  17:06    <DIR>          Desktop\n",
      "2019/10/30  14:51    <DIR>          Documents\n",
      "2019/09/24  19:12    <DIR>          Downloads\n",
      "2019/10/25  10:16    <DIR>          Favorites\n",
      "2019/10/20  12:42    <DIR>          Funshion\n",
      "2019/05/28  09:58    <DIR>          Google 云端硬盘\n",
      "2019/03/19  16:41    <DIR>          Hermes\n",
      "2019/10/30  08:45    <DIR>          iCloudDrive\n",
      "2017/01/17  17:13               583 index.html\n",
      "2019/03/22  16:16            24,343 java_error_in_pycharm_47896.log\n",
      "2019/08/14  20:57    <DIR>          Links\n",
      "2019/08/14  20:57    <DIR>          Music\n",
      "2019/04/16  09:30                 0 newreactjs.jsx\n",
      "2019/02/18  13:51                95 node_2007-31f4-3271-2382.txt\n",
      "2019/09/08  12:44    <DIR>          OneDrive\n",
      "2019/09/08  12:40    <DIR>          Pictures\n",
      "2019/09/15  14:09           888,919 PSCC20192003.zip\n",
      "2019/10/19  10:17               600 PUTTY.RND\n",
      "2019/03/26  20:43    <DIR>          Recorded Calls\n",
      "2019/08/14  20:57    <DIR>          Saved Games\n",
      "2019/08/14  20:57    <DIR>          Searches\n",
      "2019/10/27  10:37    <DIR>          sujiaqi\n",
      "2019/09/11  21:36    <DIR>          UIDowner\n",
      "2019/09/20  16:57            10,681 Untitled.ipynb\n",
      "2019/10/27  00:01           646,612 Untitled1.ipynb\n",
      "2019/10/27  10:21               555 Untitled2.ipynb\n",
      "2019/10/27  10:51             1,477 Untitled3.ipynb\n",
      "2019/10/29  20:19               555 Untitled4.ipynb\n",
      "2019/10/30  16:34            94,493 Untitled5.ipynb\n",
      "2019/10/17  18:47    <DIR>          Videos\n",
      "2019/07/09  21:09    <DIR>          wekafiles\n",
      "2019/04/02  21:17    <DIR>          workflow_output\n",
      "2019/10/30  20:47            34,903 x.ipynb\n",
      "              28 个文件      1,757,783 字节\n",
      "              58 个目录  6,815,535,104 可用字节\n"
     ]
    }
   ],
   "source": [
    "!dir"
   ]
  },
  {
   "cell_type": "markdown",
   "metadata": {},
   "source": [
    "## `arcgis.mapping` "
   ]
  },
  {
   "cell_type": "code",
   "execution_count": 130,
   "metadata": {},
   "outputs": [],
   "source": [
    "import arcgis\n",
    "from arcgis.gis import GIS\n",
    "#gis = GIS(\"https://pythonapi.playground.esri.com/portal\", \"arcgis_python\", \"amazing_arcgis_123\")\n",
    "gis=GIS()"
   ]
  },
  {
   "cell_type": "code",
   "execution_count": 126,
   "metadata": {},
   "outputs": [],
   "source": [
    "# 创造一张地图\n",
    "map1 = gis.map('Beijing')"
   ]
  },
  {
   "cell_type": "code",
   "execution_count": 131,
   "metadata": {
    "scrolled": true
   },
   "outputs": [
    {
     "data": {
      "application/vnd.jupyter.widget-view+json": {
       "model_id": "0de15426403d498bb2790c005dcc599c",
       "version_major": 2,
       "version_minor": 0
      },
      "text/plain": [
       "MapView(jupyter_target='notebook', layout=Layout(height='400px', width='100%'), ready=True, zoom=9.0)"
      ]
     },
     "metadata": {},
     "output_type": "display_data"
    },
    {
     "data": {
      "text/html": [
       "<div class=\"map-static-img-preview-bdf856e4-48e8-49c5-ba7c-268a6b0402c0\"><img src=\"\"></img></div>"
      ],
      "text/plain": [
       "<IPython.core.display.HTML object>"
      ]
     },
     "metadata": {},
     "output_type": "display_data"
    }
   ],
   "source": [
    "map1"
   ]
  },
  {
   "cell_type": "markdown",
   "metadata": {},
   "source": [
    "## 设置地图属性\n",
    "### 放大以及缩小"
   ]
  },
  {
   "cell_type": "markdown",
   "metadata": {},
   "source": [
    "## 2D视图中的放大以及缩小"
   ]
  },
  {
   "cell_type": "code",
   "execution_count": 132,
   "metadata": {},
   "outputs": [],
   "source": [
    "map1.zoom = 15"
   ]
  },
  {
   "cell_type": "markdown",
   "metadata": {},
   "source": [
    "2D视图中可以设置旋转"
   ]
  },
  {
   "cell_type": "code",
   "execution_count": 135,
   "metadata": {},
   "outputs": [],
   "source": [
    "map1.rotation = 90"
   ]
  },
  {
   "cell_type": "markdown",
   "metadata": {},
   "source": [
    "\n",
    "使用地理编码去获得位置的的坐标来驱动这个部件，地理编码将位置的名字转化为坐标\n",
    "通过arcgis.geocoding.geocode()来使用"
   ]
  },
  {
   "cell_type": "markdown",
   "metadata": {},
   "source": [
    "`Palace Museum, BJ` "
   ]
  },
  {
   "cell_type": "code",
   "execution_count": null,
   "metadata": {},
   "outputs": [],
   "source": [
    "location = arcgis.geocoding.geocode('Palace Museum, BJ', max_locations=1)[0]\n",
    "map1.extent = location['extent']"
   ]
  },
  {
   "cell_type": "code",
   "execution_count": 8,
   "metadata": {
    "scrolled": true
   },
   "outputs": [
    {
     "data": {
      "text/plain": [
       "{'address': 'Palace Museum',\n",
       " 'location': {'x': 116.39078000000006, 'y': 39.916720000000055},\n",
       " 'score': 91.43,\n",
       " 'attributes': {'Loc_name': 'World',\n",
       "  'Status': 'T',\n",
       "  'Score': 91.43,\n",
       "  'Match_addr': 'Palace Museum',\n",
       "  'LongLabel': 'Palace Museum, Beijing, CHN',\n",
       "  'ShortLabel': 'Palace Museum',\n",
       "  'Addr_type': 'POI',\n",
       "  'Type': 'Historical Monument',\n",
       "  'PlaceName': 'Palace Museum',\n",
       "  'Place_addr': 'Beijing',\n",
       "  'Phone': '',\n",
       "  'URL': '',\n",
       "  'Rank': 2.5,\n",
       "  'AddBldg': '',\n",
       "  'AddNum': '',\n",
       "  'AddNumFrom': '',\n",
       "  'AddNumTo': '',\n",
       "  'AddRange': '',\n",
       "  'Side': '',\n",
       "  'StPreDir': '',\n",
       "  'StPreType': '',\n",
       "  'StName': '',\n",
       "  'StType': '',\n",
       "  'StDir': '',\n",
       "  'BldgType': '',\n",
       "  'BldgName': '',\n",
       "  'LevelType': '',\n",
       "  'LevelName': '',\n",
       "  'UnitType': '',\n",
       "  'UnitName': '',\n",
       "  'SubAddr': '',\n",
       "  'StAddr': '',\n",
       "  'Block': '',\n",
       "  'Sector': '',\n",
       "  'Nbrhd': '',\n",
       "  'District': '',\n",
       "  'City': '',\n",
       "  'MetroArea': '',\n",
       "  'Subregion': '',\n",
       "  'Region': 'Beijing',\n",
       "  'RegionAbbr': 'Beijing',\n",
       "  'Territory': '',\n",
       "  'Zone': '',\n",
       "  'Postal': '',\n",
       "  'PostalExt': '',\n",
       "  'Country': 'CHN',\n",
       "  'LangCode': 'WEN',\n",
       "  'Distance': 0,\n",
       "  'X': 116.39078000000006,\n",
       "  'Y': 39.916720000000055,\n",
       "  'DisplayX': 116.39078000000006,\n",
       "  'DisplayY': 39.916720000000055,\n",
       "  'Xmin': 116.38578000000007,\n",
       "  'Xmax': 116.39578000000006,\n",
       "  'Ymin': 39.91172000000005,\n",
       "  'Ymax': 39.92172000000006,\n",
       "  'ExInfo': 'BJ'},\n",
       " 'extent': {'xmin': 116.38578000000007,\n",
       "  'ymin': 39.91172000000005,\n",
       "  'xmax': 116.39578000000006,\n",
       "  'ymax': 39.92172000000006}}"
      ]
     },
     "execution_count": 8,
     "metadata": {},
     "output_type": "execute_result"
    }
   ],
   "source": [
    "location"
   ]
  },
  {
   "cell_type": "markdown",
   "metadata": {},
   "source": [
    "## Basemaps\n",
    "\n",
    "basemaps有不同的地图，帮助理解特征\n"
   ]
  },
  {
   "cell_type": "code",
   "execution_count": 12,
   "metadata": {},
   "outputs": [
    {
     "data": {
      "text/plain": [
       "['dark-gray',\n",
       " 'dark-gray-vector',\n",
       " 'gray',\n",
       " 'gray-vector',\n",
       " 'hybrid',\n",
       " 'national-geographic',\n",
       " 'oceans',\n",
       " 'osm',\n",
       " 'satellite',\n",
       " 'streets',\n",
       " 'streets-navigation-vector',\n",
       " 'streets-night-vector',\n",
       " 'streets-relief-vector',\n",
       " 'streets-vector',\n",
       " 'terrain',\n",
       " 'topo',\n",
       " 'topo-vector']"
      ]
     },
     "execution_count": 12,
     "metadata": {},
     "output_type": "execute_result"
    }
   ],
   "source": [
    "map1.basemaps"
   ]
  },
  {
   "cell_type": "code",
   "execution_count": 11,
   "metadata": {},
   "outputs": [
    {
     "data": {
      "text/plain": [
       "17"
      ]
     },
     "execution_count": 11,
     "metadata": {},
     "output_type": "execute_result"
    }
   ],
   "source": [
    "len(map1.basemaps)"
   ]
  },
  {
   "cell_type": "code",
   "execution_count": 124,
   "metadata": {
    "scrolled": true
   },
   "outputs": [
    {
     "data": {
      "application/vnd.jupyter.widget-view+json": {
       "model_id": "8578a5690d1243479e1ad158e15dcc90",
       "version_major": 2,
       "version_minor": 0
      },
      "text/plain": [
       "MapView(heading=353.5476482106268, jupyter_target='notebook', layout=Layout(height='400px', width='100%'), rea…"
      ]
     },
     "metadata": {},
     "output_type": "display_data"
    },
    {
     "data": {
      "text/html": [
       "<div class=\"map-static-img-preview-3f591b92-c1ae-4198-9f78-2e88b7480ce8\"><img src=\"\"></img></div>"
      ],
      "text/plain": [
       "<IPython.core.display.HTML object>"
      ]
     },
     "metadata": {},
     "output_type": "display_data"
    }
   ],
   "source": [
    "map1.basemap = 'dark-gray-vector'\n",
    "map1"
   ]
  },
  {
   "cell_type": "markdown",
   "metadata": {},
   "source": [
    "使用basemap属性查看当前的底图\n"
   ]
  },
  {
   "cell_type": "code",
   "execution_count": 14,
   "metadata": {
    "scrolled": true
   },
   "outputs": [
    {
     "data": {
      "text/plain": [
       "'dark-gray-vector'"
      ]
     },
     "execution_count": 14,
     "metadata": {},
     "output_type": "execute_result"
    }
   ],
   "source": [
    "map1.basemap"
   ]
  },
  {
   "cell_type": "markdown",
   "metadata": {},
   "source": [
    "制作一个动画"
   ]
  },
  {
   "cell_type": "code",
   "execution_count": null,
   "metadata": {},
   "outputs": [],
   "source": [
    "import time\n",
    "for basemap in map1.basemaps:\n",
    "    map1.basemap = basemap\n",
    "    print('This map is :',basemap)\n",
    "    time.sleep(5)"
   ]
  },
  {
   "cell_type": "markdown",
   "metadata": {},
   "source": [
    "# 3D Mode\n",
    "\n",
    "同样支持3D模型"
   ]
  },
  {
   "cell_type": "code",
   "execution_count": 17,
   "metadata": {
    "scrolled": false
   },
   "outputs": [
    {
     "data": {
      "application/vnd.jupyter.widget-view+json": {
       "model_id": "5708de820b294980a47c5f921aa8bb80",
       "version_major": 2,
       "version_minor": 0
      },
      "text/plain": [
       "MapView(layout=Layout(height='400px', width='100%'), mode='3D', zoom=5.0)"
      ]
     },
     "metadata": {},
     "output_type": "display_data"
    },
    {
     "data": {
      "text/html": [
       "<div class=\"map-static-img-preview-3a667c48-2f7e-4797-8aee-0017b27ec70b\"><img src=\"\"></img></div>"
      ],
      "text/plain": [
       "<IPython.core.display.HTML object>"
      ]
     },
     "metadata": {},
     "output_type": "display_data"
    }
   ],
   "source": [
    "ca_map = gis.map('China', zoomlevel=5, mode=\"3D\") \n",
    "ca_map"
   ]
  },
  {
   "cell_type": "markdown",
   "metadata": {},
   "source": [
    "`tilt`（斜视）度数从 0-90\n",
    "\n",
    "`heading`以指定逆时针的北纬度数。"
   ]
  },
  {
   "cell_type": "code",
   "execution_count": null,
   "metadata": {},
   "outputs": [],
   "source": [
    "ca_map.tilt = 45"
   ]
  },
  {
   "cell_type": "code",
   "execution_count": null,
   "metadata": {},
   "outputs": [],
   "source": [
    "ca_map.heading = 45"
   ]
  },
  {
   "cell_type": "markdown",
   "metadata": {},
   "source": [
    "## 给地图加图层\n",
    "使用 `add_layer()` "
   ]
  },
  {
   "cell_type": "code",
   "execution_count": 67,
   "metadata": {},
   "outputs": [],
   "source": [
    "gis = GIS(\"https://www.arcgis.com\",\"arcgis_python\",\"P@ssword123\")"
   ]
  },
  {
   "cell_type": "code",
   "execution_count": 68,
   "metadata": {},
   "outputs": [
    {
     "data": {
      "text/html": [
       "GIS @ <a href=\"https://geosaurus.maps.arcgis.com\">https://geosaurus.maps.arcgis.com</a>"
      ],
      "text/plain": [
       "GIS @ https://geosaurus.maps.arcgis.com version:7.3"
      ]
     },
     "execution_count": 68,
     "metadata": {},
     "output_type": "execute_result"
    }
   ],
   "source": [
    "gis"
   ]
  },
  {
   "cell_type": "code",
   "execution_count": 73,
   "metadata": {
    "scrolled": false
   },
   "outputs": [
    {
     "name": "stdout",
     "output_type": "stream",
     "text": [
      "<class 'list'>\n"
     ]
    },
    {
     "data": {
      "text/plain": [
       "[<Item title:\"WebMap for Landfall Spotlight Article\" type:Web Map owner:amani_geosaurus>]"
      ]
     },
     "execution_count": 73,
     "metadata": {},
     "output_type": "execute_result"
    }
   ],
   "source": [
    "search_subset = gis.content.search(\"WebMap for Landfall Spotlight Article\",item_type=\"Web Map\")\n",
    "print(type(search_subset))\n",
    "search_subset"
   ]
  },
  {
   "cell_type": "code",
   "execution_count": 74,
   "metadata": {},
   "outputs": [],
   "source": [
    "map2=search_subset[0]"
   ]
  },
  {
   "cell_type": "markdown",
   "metadata": {},
   "source": [
    "### 改变地图的主题"
   ]
  },
  {
   "cell_type": "code",
   "execution_count": 75,
   "metadata": {
    "scrolled": true
   },
   "outputs": [
    {
     "data": {
      "text/html": [
       "<div class=\"item_container\" style=\"height: auto; overflow: hidden; border: 1px solid #cfcfcf; border-radius: 2px; background: #f6fafa; line-height: 1.21429em; padding: 10px;\">\n",
       "                    <div class=\"item_left\" style=\"width: 210px; float: left;\">\n",
       "                       <a href='https://geosaurus.maps.arcgis.com/home/item.html?id=5776d859b5a84b1b96d5c5bbfcc0d3d3' target='_blank'>\n",
       "                        <img src='data:image/png;base64,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' width='200' height='133' class=\"itemThumbnail\">\n",
       "                       </a>\n",
       "                    </div>\n",
       "\n",
       "                    <div class=\"item_right\"     style=\"float: none; width: auto; overflow: hidden;\">\n",
       "                        <a href='https://geosaurus.maps.arcgis.com/home/item.html?id=5776d859b5a84b1b96d5c5bbfcc0d3d3' target='_blank'><b>WebMap for Landfall Spotlight Article</b>\n",
       "                        </a>\n",
       "                        <br/>Web Map depicting insights gained from analyzing over 150 years of global hurricane data<img src='https://geosaurus.maps.arcgis.com/home/js/jsapi/esri/css/images/item_type_icons/maps16.png' style=\"vertical-align:middle;\">Web Map by amani_geosaurus\n",
       "                        <br/>Last Modified: 七月 04, 2019\n",
       "                        <br/>0 comments, 194 views\n",
       "                    </div>\n",
       "                </div>\n",
       "                "
      ],
      "text/plain": [
       "<Item title:\"WebMap for Landfall Spotlight Article\" type:Web Map owner:amani_geosaurus>"
      ]
     },
     "execution_count": 75,
     "metadata": {},
     "output_type": "execute_result"
    }
   ],
   "source": [
    "map2"
   ]
  },
  {
   "cell_type": "code",
   "execution_count": 78,
   "metadata": {},
   "outputs": [
    {
     "data": {
      "application/vnd.jupyter.widget-view+json": {
       "model_id": "c61b1701a56a4dff9679b26f01e97f3b",
       "version_major": 2,
       "version_minor": 0
      },
      "text/plain": [
       "MapView(hide_mode_switch=True, layout=Layout(height='400px', width='100%'))"
      ]
     },
     "metadata": {},
     "output_type": "display_data"
    },
    {
     "data": {
      "text/html": [
       "<div class=\"map-static-img-preview-a25239f3-7380-4094-9e34-6088f507a4a1\"><img src=\"\"></img></div>"
      ],
      "text/plain": [
       "<IPython.core.display.HTML object>"
      ]
     },
     "metadata": {},
     "output_type": "display_data"
    }
   ],
   "source": [
    "from arcgis.mapping import WebMap\n",
    "test_webmap = WebMap()\n",
    "test_webmap"
   ]
  },
  {
   "cell_type": "code",
   "execution_count": 79,
   "metadata": {},
   "outputs": [],
   "source": [
    "test_map = WebMap(map2)"
   ]
  },
  {
   "cell_type": "code",
   "execution_count": 82,
   "metadata": {},
   "outputs": [
    {
     "name": "stdout",
     "output_type": "stream",
     "text": [
      "Hurricanes that made landfall - categorized\n",
      "Hurricane track density\n",
      "Global hurricanes - categorized\n",
      "Landfall locations\n",
      "Landfall density\n"
     ]
    }
   ],
   "source": [
    "for i in test_map.layers:\n",
    "    print(i.title)"
   ]
  },
  {
   "cell_type": "code",
   "execution_count": null,
   "metadata": {},
   "outputs": [],
   "source": [
    "test_map"
   ]
  },
  {
   "cell_type": "markdown",
   "metadata": {},
   "source": [
    "### 改变地图的图层\n",
    " 增加`FeatureLayer`, `FeatureCollection`, `ImageryLayer`, `MapImageLayer` 到地图上."
   ]
  },
  {
   "cell_type": "code",
   "execution_count": 112,
   "metadata": {},
   "outputs": [],
   "source": [
    "map2 = gis.map()"
   ]
  },
  {
   "cell_type": "code",
   "execution_count": 113,
   "metadata": {},
   "outputs": [
    {
     "data": {
      "application/vnd.jupyter.widget-view+json": {
       "model_id": "fd2e0d24162c431f90a948171da34582",
       "version_major": 2,
       "version_minor": 0
      },
      "text/plain": [
       "MapView(layout=Layout(height='400px', width='100%'))"
      ]
     },
     "metadata": {},
     "output_type": "display_data"
    },
    {
     "data": {
      "text/html": [
       "<div class=\"map-static-img-preview-41a0aea3-2a8e-4b44-a2a6-02ba34e702b4\"><img src=\"\"></img></div>"
      ],
      "text/plain": [
       "<IPython.core.display.HTML object>"
      ]
     },
     "metadata": {},
     "output_type": "display_data"
    }
   ],
   "source": [
    "map2"
   ]
  },
  {
   "cell_type": "code",
   "execution_count": 120,
   "metadata": {},
   "outputs": [],
   "source": [
    "liberia_item = gis.content.get('49161527a2bc4f4782b50d2c14e38f4a')\n",
    "map2.add_layer(liberia_item, options={'title':'Liberia facilities and hospitals'})"
   ]
  },
  {
   "cell_type": "markdown",
   "metadata": {},
   "source": [
    "## 在map中绘制图形\n",
    "draw()"
   ]
  },
  {
   "cell_type": "code",
   "execution_count": 121,
   "metadata": {},
   "outputs": [],
   "source": [
    "map2.draw('rectangle')"
   ]
  },
  {
   "cell_type": "code",
   "execution_count": null,
   "metadata": {},
   "outputs": [],
   "source": [
    "map2.draw('circle')"
   ]
  },
  {
   "cell_type": "markdown",
   "metadata": {},
   "source": [
    "## 清楚绘图标记\n",
    "使用 `clear_graphics()` 方法"
   ]
  },
  {
   "cell_type": "code",
   "execution_count": 119,
   "metadata": {},
   "outputs": [],
   "source": [
    "map2.clear_graphics()"
   ]
  },
  {
   "cell_type": "markdown",
   "metadata": {},
   "source": [
    "## 将地图保存为一个  web map\n",
    "使用`save()`方法\n",
    "To save the map, call the `save()` method. "
   ]
  },
  {
   "cell_type": "code",
   "execution_count": 123,
   "metadata": {},
   "outputs": [
    {
     "data": {
      "text/html": [
       "<div class=\"item_container\" style=\"height: auto; overflow: hidden; border: 1px solid #cfcfcf; border-radius: 2px; background: #f6fafa; line-height: 1.21429em; padding: 10px;\">\n",
       "                    <div class=\"item_left\" style=\"width: 210px; float: left;\">\n",
       "                       <a href='https://geosaurus.maps.arcgis.com/home/item.html?id=30ebe4055c9a47f1bd08d8c9382c7af5' target='_blank'>\n",
       "                        <img src='http://static.arcgis.com/images/desktopapp.png' class=\"itemThumbnail\">\n",
       "                       </a>\n",
       "                    </div>\n",
       "\n",
       "                    <div class=\"item_right\"     style=\"float: none; width: auto; overflow: hidden;\">\n",
       "                        <a href='https://geosaurus.maps.arcgis.com/home/item.html?id=30ebe4055c9a47f1bd08d8c9382c7af5' target='_blank'><b>my_test</b>\n",
       "                        </a>\n",
       "                        <br/>Map<img src='https://geosaurus.maps.arcgis.com/home/js/jsapi/esri/css/images/item_type_icons/maps16.png' style=\"vertical-align:middle;\">Web Map by arcgis_python\n",
       "                        <br/>Last Modified: 十月 30, 2019\n",
       "                        <br/>0 comments, 0 views\n",
       "                    </div>\n",
       "                </div>\n",
       "                "
      ],
      "text/plain": [
       "<Item title:\"my_test\" type:Web Map owner:arcgis_python>"
      ]
     },
     "execution_count": 123,
     "metadata": {},
     "output_type": "execute_result"
    }
   ],
   "source": [
    "webmap_item_properties = {'title':'my_test',\n",
    "                         'snippet':'Map',\n",
    "                         'tags':['python','test']}\n",
    "\n",
    "map2.save(webmap_item_properties, thumbnail='webmap_test_1.png',)"
   ]
  },
  {
   "cell_type": "markdown",
   "metadata": {},
   "source": [
    "You can use this web map back in the notebook, or in any ArcGIS app capabale of rendering web maps. To learn how you can use this read this web map using the Python API, refer to the guide titled [working with web maps and scenes](../working-with-web-maps-and-web-scenes/)"
   ]
  },
  {
   "cell_type": "code",
   "execution_count": null,
   "metadata": {},
   "outputs": [],
   "source": []
  }
 ],
 "metadata": {
  "anaconda-cloud": {},
  "kernelspec": {
   "display_name": "Python 3",
   "language": "python",
   "name": "python3"
  },
  "language_info": {
   "codemirror_mode": {
    "name": "ipython",
    "version": 3
   },
   "file_extension": ".py",
   "mimetype": "text/x-python",
   "name": "python",
   "nbconvert_exporter": "python",
   "pygments_lexer": "ipython3",
   "version": "3.6.8"
  }
 },
 "nbformat": 4,
 "nbformat_minor": 1
}
